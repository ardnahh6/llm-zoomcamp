{
 "cells": [
  {
   "cell_type": "markdown",
   "id": "6f7491fe-9098-4a52-82ff-3c5557f6e131",
   "metadata": {},
   "source": [
    "# Preparation"
   ]
  },
  {
   "cell_type": "code",
   "execution_count": 1,
   "id": "e57df836-1139-4fab-b3bd-0ac4e0b782e4",
   "metadata": {},
   "outputs": [],
   "source": [
    "import random\n",
    "\n",
    "known_weather_data = {\n",
    "    'berlin': 20.0\n",
    "}\n",
    "\n",
    "def get_weather(city: str) -> float:\n",
    "    city = city.strip().lower()\n",
    "\n",
    "    if city in known_weather_data:\n",
    "        return known_weather_data[city]\n",
    "\n",
    "    return round(random.uniform(-5, 35), 1)"
   ]
  },
  {
   "cell_type": "markdown",
   "id": "df1e5449-5655-4a53-aad3-a7a4d25dbf3e",
   "metadata": {},
   "source": [
    "# Q1. Define function description"
   ]
  },
  {
   "cell_type": "code",
   "execution_count": 2,
   "id": "1913ae3f-1aa2-4470-ae92-0de8c2f2849a",
   "metadata": {},
   "outputs": [],
   "source": [
    "get_weather_tool = {\n",
    "    \"type\": \"function\",\n",
    "    \"name\": \"get_weather\", #TODO 1\n",
    "    \"description\": \"Retrieve the weather temperature for a specified city.\", #TODO 2\n",
    "    \"parameters\": {\n",
    "        \"type\": \"object\",\n",
    "        \"properties\": {\n",
    "            \"city\": { # TODO 3\n",
    "                \"type\": \"string\",\n",
    "                \"description\": \"The name of the city to get weather information for.\" #TODO 4\n",
    "            }\n",
    "        },\n",
    "        \"required\": [\"city\"], #TODO 5\n",
    "        \"additionalProperties\": False\n",
    "    }\n",
    "}"
   ]
  },
  {
   "cell_type": "markdown",
   "id": "a95fc7e6-ad0a-4f68-8de3-dbe7ea7803c8",
   "metadata": {},
   "source": [
    "# Q2. Adding another tool"
   ]
  },
  {
   "cell_type": "code",
   "execution_count": 3,
   "id": "46b15ab9-1b17-4d6d-a7ac-7389fe2e25a8",
   "metadata": {},
   "outputs": [],
   "source": [
    "def set_weather(city: str, temp: float) -> None:\n",
    "    city = city.strip().lower()\n",
    "    known_weather_data[city] = temp\n",
    "    return 'OK'"
   ]
  },
  {
   "cell_type": "code",
   "execution_count": 4,
   "id": "0710f38c-49fe-4206-a93b-e5412d517701",
   "metadata": {},
   "outputs": [],
   "source": [
    "set_weather_tool = {\n",
    "    \"type\": \"function\",\n",
    "    \"name\": \"set_weather\",\n",
    "    \"description\": \"Set the weather temperature for a given city.\",\n",
    "    \"parameters\": {\n",
    "        \"type\": \"object\",\n",
    "        \"properties\": {\n",
    "            \"city\": {\n",
    "                \"type\": \"string\",\n",
    "                \"description\": \"The city to set the weather for.\"\n",
    "            },\n",
    "            \"temp\": {\n",
    "                \"type\": \"number\",\n",
    "                \"description\": \"The temperature to set for the city.\"\n",
    "            }\n",
    "        },\n",
    "        \"required\": [\"city\", \"temp\"],\n",
    "        \"additionalProperties\": False\n",
    "    }\n",
    "}"
   ]
  },
  {
   "cell_type": "markdown",
   "id": "8e7ef88b-f637-443b-af8e-fcfacc51c3cf",
   "metadata": {},
   "source": [
    "# Q3. Install FastMCP"
   ]
  },
  {
   "cell_type": "code",
   "execution_count": 5,
   "id": "c5d7be43-80b2-4d84-93bb-7ebb97ea0908",
   "metadata": {},
   "outputs": [
    {
     "name": "stdout",
     "output_type": "stream",
     "text": [
      "The history saving thread hit an unexpected error (OperationalError('attempt to write a readonly database')).History will not be written to the database.\n",
      "2.10.4\n"
     ]
    }
   ],
   "source": [
    "import fastmcp\n",
    "\n",
    "print(fastmcp.__version__)"
   ]
  },
  {
   "cell_type": "markdown",
   "id": "432c2f2b-9c9a-45f4-88cb-18797462cac0",
   "metadata": {},
   "source": [
    "# Q4. Simple MCP Server"
   ]
  },
  {
   "cell_type": "code",
   "execution_count": 9,
   "id": "e96029cf-75ca-4051-a22a-d55a89e47cec",
   "metadata": {},
   "outputs": [
    {
     "name": "stdout",
     "output_type": "stream",
     "text": [
      "Available tools: [Tool(name='get_weather', title=None, description='Retrieves the temperature for a specified city.\\n\\nParameters:\\n    city (str): The name of the city for which to retrieve weather data.\\n\\nReturns:\\n    float: The temperature associated with the city.', inputSchema={'properties': {'city': {'title': 'City', 'type': 'string'}}, 'required': ['city'], 'type': 'object'}, outputSchema={'properties': {'result': {'title': 'Result', 'type': 'number'}}, 'required': ['result'], 'title': '_WrappedResult', 'type': 'object', 'x-fastmcp-wrap-result': True}, annotations=None, meta=None), Tool(name='set_weather', title=None, description=\"Sets the temperature for a specified city.\\n\\nParameters:\\n    city (str): The name of the city for which to set the weather data.\\n    temp (float): The temperature to associate with the city.\\n\\nReturns:\\n    str: A confirmation string 'OK' indicating successful update.\", inputSchema={'properties': {'city': {'title': 'City', 'type': 'string'}, 'temp': {'title': 'Temp', 'type': 'number'}}, 'required': ['city', 'temp'], 'type': 'object'}, outputSchema={'properties': {'result': {'title': 'Result', 'type': 'string'}}, 'required': ['result'], 'title': '_WrappedResult', 'type': 'object', 'x-fastmcp-wrap-result': True}, annotations=None, meta=None)]\n"
     ]
    }
   ],
   "source": [
    "# weather_server.py\n",
    "from fastmcp import FastMCP, Client\n",
    "import random\n",
    "\n",
    "# Simulasi data suhu\n",
    "known_weather_data = {\n",
    "    'berlin': 20.0\n",
    "}\n",
    "\n",
    "def get_weather(city: str) -> float:\n",
    "    \"\"\"\n",
    "    Retrieves the temperature for a specified city.\n",
    "\n",
    "    Parameters:\n",
    "        city (str): The name of the city for which to retrieve weather data.\n",
    "\n",
    "    Returns:\n",
    "        float: The temperature associated with the city.\n",
    "    \"\"\"\n",
    "    city = city.strip().lower()\n",
    "    if city in known_weather_data:\n",
    "        return known_weather_data[city]\n",
    "    return round(random.uniform(-5, 35), 1)\n",
    "\n",
    "def set_weather(city: str, temp: float) -> str:\n",
    "    \"\"\"\n",
    "    Sets the temperature for a specified city.\n",
    "\n",
    "    Parameters:\n",
    "        city (str): The name of the city for which to set the weather data.\n",
    "        temp (float): The temperature to associate with the city.\n",
    "\n",
    "    Returns:\n",
    "        str: A confirmation string 'OK' indicating successful update.\n",
    "    \"\"\"\n",
    "    city = city.strip().lower()\n",
    "    known_weather_data[city] = temp\n",
    "    return 'OK'\n",
    "\n",
    "# Init MCP\n",
    "mcp = FastMCP(\"Demo 🚀\")\n",
    "\n",
    "# Daftarkan kedua fungsi sebagai tools\n",
    "mcp.tool(get_weather)\n",
    "mcp.tool(set_weather)\n",
    "\n",
    "import asyncio\n",
    "\n",
    "async def main():\n",
    "    async with Client(mcp) as mcp_client:\n",
    "        tools = await mcp_client.list_tools()\n",
    "        print(\"Available tools:\", tools)\n",
    "\n",
    "await main()"
   ]
  },
  {
   "cell_type": "markdown",
   "id": "2e897446-5e38-48ae-bc9c-561ae0effda9",
   "metadata": {},
   "source": [
    "# Q5. Protocol"
   ]
  },
  {
   "cell_type": "code",
   "execution_count": 11,
   "id": "a58f0b18-091c-4a21-96d8-a9f3dd9941a2",
   "metadata": {},
   "outputs": [
    {
     "data": {
      "text/plain": [
       "{'jsonrpc': '2.0',\n",
       " 'id': 1,\n",
       " 'method': 'initialize',\n",
       " 'params': {'protocolVersion': '2024-11-05',\n",
       "  'capabilities': {'roots': {'listChanged': 'true'}, 'sampling': {}},\n",
       "  'clientInfo': {'name': 'test-client', 'version': '1.0.0'}}}"
      ]
     },
     "execution_count": 11,
     "metadata": {},
     "output_type": "execute_result"
    }
   ],
   "source": [
    "{\"jsonrpc\": \"2.0\", \"id\": 1, \"method\": \"initialize\", \"params\": {\"protocolVersion\": \"2024-11-05\", \"capabilities\": {\"roots\": {\"listChanged\": \"true\"}, \"sampling\": {}}, \"clientInfo\": {\"name\": \"test-client\", \"version\": \"1.0.0\"}}}"
   ]
  },
  {
   "cell_type": "code",
   "execution_count": 12,
   "id": "a2a58816-d7da-4dfe-9986-212da3eefb14",
   "metadata": {},
   "outputs": [
    {
     "data": {
      "text/plain": [
       "{'jsonrpc': '2.0', 'method': 'notifications/initialized'}"
      ]
     },
     "execution_count": 12,
     "metadata": {},
     "output_type": "execute_result"
    }
   ],
   "source": [
    "{\"jsonrpc\": \"2.0\", \"method\": \"notifications/initialized\"}"
   ]
  },
  {
   "cell_type": "code",
   "execution_count": 13,
   "id": "f7b968d6-46b0-4843-b8f9-b672702ca730",
   "metadata": {},
   "outputs": [
    {
     "data": {
      "text/plain": [
       "{'jsonrpc': '2.0', 'id': 2, 'method': 'tools/list'}"
      ]
     },
     "execution_count": 13,
     "metadata": {},
     "output_type": "execute_result"
    }
   ],
   "source": [
    "{\"jsonrpc\": \"2.0\", \"id\": 2, \"method\": \"tools/list\"}"
   ]
  },
  {
   "cell_type": "code",
   "execution_count": 17,
   "id": "d03248ab-8f7c-4ed3-8f0c-7ed647ac6beb",
   "metadata": {},
   "outputs": [
    {
     "data": {
      "text/plain": [
       "{'jsonrpc': '2.0',\n",
       " 'id': 3,\n",
       " 'method': 'tools/call',\n",
       " 'params': {'name': 'get_weather', 'arguments': {'city': 'Berlin'}}}"
      ]
     },
     "execution_count": 17,
     "metadata": {},
     "output_type": "execute_result"
    }
   ],
   "source": [
    "{\n",
    "  \"jsonrpc\": \"2.0\",\n",
    "  \"id\": 3,\n",
    "  \"method\": \"tools/call\",\n",
    "  \"params\": {\n",
    "    \"name\": \"get_weather\",\n",
    "    \"arguments\": {\n",
    "      \"city\": \"Berlin\"\n",
    "    }\n",
    "  }\n",
    "}"
   ]
  },
  {
   "cell_type": "code",
   "execution_count": null,
   "id": "2556285c-6a1f-4a19-a83c-99a43e5d9a47",
   "metadata": {},
   "outputs": [],
   "source": []
  }
 ],
 "metadata": {
  "kernelspec": {
   "display_name": "Python 3 (ipykernel)",
   "language": "python",
   "name": "python3"
  },
  "language_info": {
   "codemirror_mode": {
    "name": "ipython",
    "version": 3
   },
   "file_extension": ".py",
   "mimetype": "text/x-python",
   "name": "python",
   "nbconvert_exporter": "python",
   "pygments_lexer": "ipython3",
   "version": "3.12.1"
  }
 },
 "nbformat": 4,
 "nbformat_minor": 5
}
