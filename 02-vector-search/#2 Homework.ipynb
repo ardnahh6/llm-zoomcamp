{
 "cells": [
  {
   "cell_type": "markdown",
   "id": "76b4482d-b565-4885-8e6f-1ddd27ec7968",
   "metadata": {},
   "source": [
    "# Q1. Embedding the query"
   ]
  },
  {
   "cell_type": "code",
   "execution_count": 2,
   "id": "58e33280-e7fe-4575-98d9-166fa3dad239",
   "metadata": {},
   "outputs": [],
   "source": [
    "from fastembed import TextEmbedding\n",
    "import numpy as np"
   ]
  },
  {
   "cell_type": "code",
   "execution_count": 3,
   "id": "a60e8acf-caf3-41da-976f-2f3e48392c2c",
   "metadata": {},
   "outputs": [
    {
     "data": {
      "application/vnd.jupyter.widget-view+json": {
       "model_id": "038f18f34d084c9aa055ffdbe297706d",
       "version_major": 2,
       "version_minor": 0
      },
      "text/plain": [
       "Fetching 5 files:   0%|          | 0/5 [00:00<?, ?it/s]"
      ]
     },
     "metadata": {},
     "output_type": "display_data"
    },
    {
     "data": {
      "application/vnd.jupyter.widget-view+json": {
       "model_id": "203982cb23ab4adf93340bae42aa4242",
       "version_major": 2,
       "version_minor": 0
      },
      "text/plain": [
       "special_tokens_map.json:   0%|          | 0.00/125 [00:00<?, ?B/s]"
      ]
     },
     "metadata": {},
     "output_type": "display_data"
    },
    {
     "data": {
      "application/vnd.jupyter.widget-view+json": {
       "model_id": "3293fbf1f91848c7884d1fa6035f6768",
       "version_major": 2,
       "version_minor": 0
      },
      "text/plain": [
       "config.json:   0%|          | 0.00/1.15k [00:00<?, ?B/s]"
      ]
     },
     "metadata": {},
     "output_type": "display_data"
    },
    {
     "data": {
      "application/vnd.jupyter.widget-view+json": {
       "model_id": "6f595db372024519a8d479ee51f0a6a4",
       "version_major": 2,
       "version_minor": 0
      },
      "text/plain": [
       "onnx/model.onnx:   0%|          | 0.00/130M [00:00<?, ?B/s]"
      ]
     },
     "metadata": {},
     "output_type": "display_data"
    },
    {
     "data": {
      "application/vnd.jupyter.widget-view+json": {
       "model_id": "49b98e9d6eb14d6cb5f0a7173f0c211c",
       "version_major": 2,
       "version_minor": 0
      },
      "text/plain": [
       "tokenizer_config.json:   0%|          | 0.00/367 [00:00<?, ?B/s]"
      ]
     },
     "metadata": {},
     "output_type": "display_data"
    },
    {
     "data": {
      "application/vnd.jupyter.widget-view+json": {
       "model_id": "6ed9473ee34a4ba2b247238a377b50f1",
       "version_major": 2,
       "version_minor": 0
      },
      "text/plain": [
       "tokenizer.json:   0%|          | 0.00/712k [00:00<?, ?B/s]"
      ]
     },
     "metadata": {},
     "output_type": "display_data"
    }
   ],
   "source": [
    "model = TextEmbedding(model_name='jinaai/jina-embeddings-v2-small-en', cache_dir='.cache')\n",
    "query = 'I just discovered the course. Can I join now?'"
   ]
  },
  {
   "cell_type": "code",
   "execution_count": 4,
   "id": "248ba6cc-7551-4495-a2b7-f2071c0fe330",
   "metadata": {},
   "outputs": [],
   "source": [
    "embeddings = list(model.embed([query]))\n",
    "q = embeddings[0]"
   ]
  },
  {
   "cell_type": "code",
   "execution_count": 5,
   "id": "56092b77-2d41-462c-a84e-def691abf701",
   "metadata": {},
   "outputs": [
    {
     "name": "stdout",
     "output_type": "stream",
     "text": [
      "(512,)\n",
      "-0.11726373885183883\n"
     ]
    }
   ],
   "source": [
    "print(q.shape)\n",
    "print(np.min(q))"
   ]
  },
  {
   "cell_type": "markdown",
   "id": "23807b2e-9ced-477c-bd3c-7ec49fda96dd",
   "metadata": {},
   "source": [
    "# Q2. Cosine similarity with another vector"
   ]
  },
  {
   "cell_type": "code",
   "execution_count": 6,
   "id": "31c1317c-ba88-4788-b7ef-d2298f3132c9",
   "metadata": {},
   "outputs": [],
   "source": [
    "doc = 'Can I still join the course after the start date?'\n",
    "doc_vec = list(model.embed(doc))[0]"
   ]
  },
  {
   "cell_type": "code",
   "execution_count": 7,
   "id": "1ff5f2fa-b6c3-425a-bba7-b93ae53bf3dd",
   "metadata": {},
   "outputs": [
    {
     "name": "stdout",
     "output_type": "stream",
     "text": [
      "0.9008528895674548\n"
     ]
    }
   ],
   "source": [
    "similarity = np.dot(q, doc_vec)\n",
    "print(similarity)"
   ]
  },
  {
   "cell_type": "markdown",
   "id": "6e7629d2-105d-498f-9795-df36bd359877",
   "metadata": {},
   "source": [
    "# Q3. Ranking by cosine"
   ]
  },
  {
   "cell_type": "code",
   "execution_count": 8,
   "id": "82f547ae-a214-4763-98cb-97d0e8875208",
   "metadata": {},
   "outputs": [],
   "source": [
    "documents = [{'text': \"Yes, even if you don't register, you're still eligible to submit the homeworks.\\nBe aware, however, that there will be deadlines for turning in the final projects. So don't leave everything for the last minute.\",\n",
    "  'section': 'General course-related questions',\n",
    "  'question': 'Course - Can I still join the course after the start date?',\n",
    "  'course': 'data-engineering-zoomcamp'},\n",
    " {'text': 'Yes, we will keep all the materials after the course finishes, so you can follow the course at your own pace after it finishes.\\nYou can also continue looking at the homeworks and continue preparing for the next cohort. I guess you can also start working on your final capstone project.',\n",
    "  'section': 'General course-related questions',\n",
    "  'question': 'Course - Can I follow the course after it finishes?',\n",
    "  'course': 'data-engineering-zoomcamp'},\n",
    " {'text': \"The purpose of this document is to capture frequently asked technical questions\\nThe exact day and hour of the course will be 15th Jan 2024 at 17h00. The course will start with the first  “Office Hours'' live.1\\nSubscribe to course public Google Calendar (it works from Desktop only).\\nRegister before the course starts using this link.\\nJoin the course Telegram channel with announcements.\\nDon’t forget to register in DataTalks.Club's Slack and join the channel.\",\n",
    "  'section': 'General course-related questions',\n",
    "  'question': 'Course - When will the course start?',\n",
    "  'course': 'data-engineering-zoomcamp'},\n",
    " {'text': 'You can start by installing and setting up all the dependencies and requirements:\\nGoogle cloud account\\nGoogle Cloud SDK\\nPython 3 (installed with Anaconda)\\nTerraform\\nGit\\nLook over the prerequisites and syllabus to see if you are comfortable with these subjects.',\n",
    "  'section': 'General course-related questions',\n",
    "  'question': 'Course - What can I do before the course starts?',\n",
    "  'course': 'data-engineering-zoomcamp'},\n",
    " {'text': 'Star the repo! Share it with friends if you find it useful ❣️\\nCreate a PR if you see you can improve the text or the structure of the repository.',\n",
    "  'section': 'General course-related questions',\n",
    "  'question': 'How can we contribute to the course?',\n",
    "  'course': 'data-engineering-zoomcamp'}]"
   ]
  },
  {
   "cell_type": "code",
   "execution_count": 9,
   "id": "66717fd4-074d-47f7-a34f-a65c727be9d5",
   "metadata": {},
   "outputs": [
    {
     "name": "stdout",
     "output_type": "stream",
     "text": [
      "1\n"
     ]
    }
   ],
   "source": [
    "text_embed = list(model.embed([doc['text'] for doc in documents]))\n",
    "\n",
    "sims = np.dot(text_embed, q)\n",
    "print(np.argmax(sims))"
   ]
  },
  {
   "cell_type": "markdown",
   "id": "dc8cd2f3-004d-4124-bc8e-a56b548aba31",
   "metadata": {},
   "source": [
    "# Q4. Ranking by cosine, version two"
   ]
  },
  {
   "cell_type": "code",
   "execution_count": 10,
   "id": "27352906-7082-416c-af28-d77677b034d7",
   "metadata": {},
   "outputs": [
    {
     "name": "stdout",
     "output_type": "stream",
     "text": [
      "0\n"
     ]
    }
   ],
   "source": [
    "full_embed = list(model.embed([doc['question'] + ' ' + doc['text'] for doc in documents]))\n",
    "\n",
    "sims_full = np.dot(full_embed, q)\n",
    "print(np.argmax(sims_full))"
   ]
  },
  {
   "cell_type": "markdown",
   "id": "4709c6df-4523-43a1-900e-e188bea9b0c2",
   "metadata": {},
   "source": [
    "In `Q3`, we computed the cosine similarity between the query and the document embeddings using only the `'text'` field. The most relevant document was found at index 1, which clearly aligns in content and context with the query. In `Q4`, we modified the input by concatenating the `'question'` and `'text'` fields before embedding. Interestingly, this change caused the highest similarity to shift to index 0, which is less relevant to the query. This shows that adding more context doesn't always improve vector search results. In some cases, concatenating multiple fields may dilute the semantic meaning or shift the focus of the embedding, resulting in less accurate similarity scores."
   ]
  },
  {
   "cell_type": "markdown",
   "id": "5860c5f8-dd59-43c7-9c0b-850d3d44f2e2",
   "metadata": {},
   "source": [
    "# Q5. Selecting the embedding model"
   ]
  },
  {
   "cell_type": "code",
   "execution_count": 11,
   "id": "0f58310b-4de1-4cbc-9634-86f620a1d9bc",
   "metadata": {},
   "outputs": [
    {
     "data": {
      "application/vnd.jupyter.widget-view+json": {
       "model_id": "6e55e9e38d674326b175bef64c57a7a4",
       "version_major": 2,
       "version_minor": 0
      },
      "text/plain": [
       "Fetching 5 files:   0%|          | 0/5 [00:00<?, ?it/s]"
      ]
     },
     "metadata": {},
     "output_type": "display_data"
    },
    {
     "data": {
      "application/vnd.jupyter.widget-view+json": {
       "model_id": "16d6bc9ad46247a787698c1b8432d5b3",
       "version_major": 2,
       "version_minor": 0
      },
      "text/plain": [
       "model_optimized.onnx:   0%|          | 0.00/133M [00:00<?, ?B/s]"
      ]
     },
     "metadata": {},
     "output_type": "display_data"
    },
    {
     "data": {
      "application/vnd.jupyter.widget-view+json": {
       "model_id": "adf6cf639a0c43b0aee193ed2a2fd196",
       "version_major": 2,
       "version_minor": 0
      },
      "text/plain": [
       "tokenizer_config.json:   0%|          | 0.00/366 [00:00<?, ?B/s]"
      ]
     },
     "metadata": {},
     "output_type": "display_data"
    },
    {
     "data": {
      "application/vnd.jupyter.widget-view+json": {
       "model_id": "6a480f60ac394f9cbdd90e2eab50bf16",
       "version_major": 2,
       "version_minor": 0
      },
      "text/plain": [
       "config.json:   0%|          | 0.00/701 [00:00<?, ?B/s]"
      ]
     },
     "metadata": {},
     "output_type": "display_data"
    },
    {
     "data": {
      "application/vnd.jupyter.widget-view+json": {
       "model_id": "ffc3d0de23f34411936c2b653acba27f",
       "version_major": 2,
       "version_minor": 0
      },
      "text/plain": [
       "tokenizer.json:   0%|          | 0.00/711k [00:00<?, ?B/s]"
      ]
     },
     "metadata": {},
     "output_type": "display_data"
    },
    {
     "data": {
      "application/vnd.jupyter.widget-view+json": {
       "model_id": "df8fc3fef3f243ef81c8716dde69eb59",
       "version_major": 2,
       "version_minor": 0
      },
      "text/plain": [
       "special_tokens_map.json:   0%|          | 0.00/125 [00:00<?, ?B/s]"
      ]
     },
     "metadata": {},
     "output_type": "display_data"
    },
    {
     "name": "stdout",
     "output_type": "stream",
     "text": [
      "384\n"
     ]
    }
   ],
   "source": [
    "model_small = TextEmbedding(model_name='BAAI/bge-small-en') \n",
    "sample = list(model_small.embed(['test']))[0]\n",
    "print(len(sample))"
   ]
  },
  {
   "cell_type": "markdown",
   "id": "5783d604-2015-4352-8d43-ed4f0b642104",
   "metadata": {},
   "source": [
    "# Q6. Indexing with Qdrant"
   ]
  },
  {
   "cell_type": "code",
   "execution_count": 12,
   "id": "46ab4b9a-d53e-49bf-b276-2549f706af5b",
   "metadata": {},
   "outputs": [],
   "source": [
    "import requests \n",
    "\n",
    "docs_url = 'https://github.com/alexeygrigorev/llm-rag-workshop/raw/main/notebooks/documents.json'\n",
    "docs_response = requests.get(docs_url)\n",
    "documents_raw = docs_response.json()\n",
    "\n",
    "\n",
    "documents = []\n",
    "\n",
    "for course in documents_raw:\n",
    "    course_name = course['course']\n",
    "    if course_name != 'machine-learning-zoomcamp':\n",
    "        continue\n",
    "\n",
    "    for doc in course['documents']:\n",
    "        doc['course'] = course_name\n",
    "        documents.append(doc)"
   ]
  },
  {
   "cell_type": "code",
   "execution_count": 13,
   "id": "81dacccc-c416-4008-b99d-bb9b0ca34c8c",
   "metadata": {},
   "outputs": [],
   "source": [
    "from qdrant_client import QdrantClient\n",
    "from qdrant_client.models import Distance, VectorParams, PointStruct"
   ]
  },
  {
   "cell_type": "code",
   "execution_count": 14,
   "id": "3f22fe87-2a10-45e3-95ce-21f2343955ce",
   "metadata": {},
   "outputs": [
    {
     "name": "stderr",
     "output_type": "stream",
     "text": [
      "/tmp/ipykernel_11426/2227435119.py:3: DeprecationWarning: `recreate_collection` method is deprecated and will be removed in the future. Use `collection_exists` to check collection existence and `create_collection` instead.\n",
      "  client.recreate_collection(\n"
     ]
    },
    {
     "data": {
      "text/plain": [
       "True"
      ]
     },
     "execution_count": 14,
     "metadata": {},
     "output_type": "execute_result"
    }
   ],
   "source": [
    "client = QdrantClient(host=\"localhost\", port=6333)\n",
    "\n",
    "client.recreate_collection(\n",
    "    collection_name=\"zoomcamp_faq\",\n",
    "    vectors_config=VectorParams(size=384, distance=Distance.COSINE),\n",
    ")"
   ]
  },
  {
   "cell_type": "code",
   "execution_count": 15,
   "id": "0b9834d2-74c5-4494-a43a-8ffb8f86b5f2",
   "metadata": {},
   "outputs": [
    {
     "data": {
      "text/plain": [
       "UpdateResult(operation_id=0, status=<UpdateStatus.COMPLETED: 'completed'>)"
      ]
     },
     "execution_count": 15,
     "metadata": {},
     "output_type": "execute_result"
    }
   ],
   "source": [
    "points = []\n",
    "for idx, doc in enumerate(documents):\n",
    "    text = doc['question'] + \" \" + doc['text']\n",
    "    vec = list(model_small.embed([text]))[0]\n",
    "    points.append(PointStruct(id=idx, vector=vec, payload=doc))\n",
    "\n",
    "client.upsert(collection_name=\"zoomcamp_faq\", points=points)"
   ]
  },
  {
   "cell_type": "code",
   "execution_count": 16,
   "id": "39a4e468-7867-444a-8d94-b3a54216ba2b",
   "metadata": {},
   "outputs": [
    {
     "name": "stdout",
     "output_type": "stream",
     "text": [
      "0.8703172\n"
     ]
    },
    {
     "name": "stderr",
     "output_type": "stream",
     "text": [
      "/tmp/ipykernel_11426/1814204446.py:2: DeprecationWarning: `search` method is deprecated and will be removed in the future. Use `query_points` instead.\n",
      "  res = client.search(collection_name=\"zoomcamp_faq\", query_vector=query_vec, limit=1)\n"
     ]
    }
   ],
   "source": [
    "query_vec = list(model_small.embed([\"I just discovered the course. Can I join now?\"]))[0]\n",
    "res = client.search(collection_name=\"zoomcamp_faq\", query_vector=query_vec, limit=1)\n",
    "print(res[0].score)"
   ]
  }
 ],
 "metadata": {
  "kernelspec": {
   "display_name": "Python 3 (ipykernel)",
   "language": "python",
   "name": "python3"
  },
  "language_info": {
   "codemirror_mode": {
    "name": "ipython",
    "version": 3
   },
   "file_extension": ".py",
   "mimetype": "text/x-python",
   "name": "python",
   "nbconvert_exporter": "python",
   "pygments_lexer": "ipython3",
   "version": "3.12.1"
  }
 },
 "nbformat": 4,
 "nbformat_minor": 5
}
