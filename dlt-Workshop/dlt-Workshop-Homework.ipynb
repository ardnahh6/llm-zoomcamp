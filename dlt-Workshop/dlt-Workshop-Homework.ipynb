{
 "cells": [
  {
   "cell_type": "markdown",
   "id": "ed131a8d-0deb-41c5-8e4e-a6622e5142ea",
   "metadata": {},
   "source": [
    "# Question 1. dlt Version"
   ]
  },
  {
   "cell_type": "code",
   "execution_count": 29,
   "id": "feca35a9-d509-4a3c-bfc6-b257418e38f0",
   "metadata": {},
   "outputs": [
    {
     "name": "stdout",
     "output_type": "stream",
     "text": [
      "The version of dlt is: 1.12.3\n"
     ]
    }
   ],
   "source": [
    "import dlt\n",
    "\n",
    "print(\"The version of dlt is:\", dlt.__version__)"
   ]
  },
  {
   "cell_type": "markdown",
   "id": "81c2ceaa-53ef-4041-b2db-31b50094836c",
   "metadata": {},
   "source": [
    "# Question 2. dlt Pipeline"
   ]
  },
  {
   "cell_type": "code",
   "execution_count": 30,
   "id": "3a3e93de-bf2a-422b-bc29-21d8e23a5ec5",
   "metadata": {},
   "outputs": [],
   "source": [
    "import requests\n",
    "from dlt.destinations import qdrant\n",
    "\n",
    "#Step 1: Reading the FAQ data & Resource function\n",
    "@dlt.resource\n",
    "def zoomcamp_data():\n",
    "    docs_url = 'https://github.com/alexeygrigorev/llm-rag-workshop/raw/main/notebooks/documents.json'\n",
    "    docs_response = requests.get(docs_url)\n",
    "    documents_raw = docs_response.json()\n",
    "\n",
    "    for course in documents_raw:\n",
    "        course_name = course['course']\n",
    "\n",
    "        for doc in course['documents']:\n",
    "            doc['course'] = course_name\n",
    "            yield doc"
   ]
  },
  {
   "cell_type": "code",
   "execution_count": 31,
   "id": "218b8cc1-849a-4fba-9bac-b398a7f18069",
   "metadata": {},
   "outputs": [],
   "source": [
    "# Step 2: Define destination\n",
    "import shutil\n",
    "shutil.rmtree(\"db.qdrant\", ignore_errors=True)\n",
    "\n",
    "qdrant_destination = qdrant(qd_path=\"db.qdrant\")"
   ]
  },
  {
   "cell_type": "code",
   "execution_count": 32,
   "id": "6288e6a8-847a-495c-ab5f-997e40c68956",
   "metadata": {},
   "outputs": [],
   "source": [
    "# Step 3: Create a pipeline\n",
    "pipeline = dlt.pipeline(\n",
    "    pipeline_name=\"zoomcamp_pipeline\",\n",
    "    destination=qdrant_destination,\n",
    "    dataset_name=\"zoomcamp_tagged_data\"\n",
    ")"
   ]
  },
  {
   "cell_type": "code",
   "execution_count": 33,
   "id": "afea39e8-7ca3-40e4-8e0d-02bc62c0941f",
   "metadata": {},
   "outputs": [],
   "source": [
    "# Step 4: Run pipeline\n",
    "load_info = pipeline.run(zoomcamp_data())"
   ]
  },
  {
   "cell_type": "code",
   "execution_count": 34,
   "id": "d2446860-1463-4004-9ef2-13ea16311016",
   "metadata": {},
   "outputs": [
    {
     "name": "stdout",
     "output_type": "stream",
     "text": [
      "Run started at 2025-07-03 14:54:37.668606+00:00 and COMPLETED in 10.81 seconds with 4 steps.\n",
      "Step extract COMPLETED in 1.68 seconds.\n",
      "\n",
      "Load package 1751554479.5610447 is EXTRACTED and NOT YET LOADED to the destination and contains no failed jobs\n",
      "\n",
      "Step normalize COMPLETED in 0.09 seconds.\n",
      "Normalized data for the following tables:\n",
      "- zoomcamp_data: 948 row(s)\n",
      "- _dlt_pipeline_state: 1 row(s)\n",
      "\n",
      "Load package 1751554479.5610447 is NORMALIZED and NOT YET LOADED to the destination and contains no failed jobs\n",
      "\n",
      "Step load COMPLETED in 7.15 seconds.\n",
      "Pipeline zoomcamp_pipeline load step completed in 7.13 seconds\n",
      "1 load package(s) were loaded to destination qdrant and into dataset zoomcamp_tagged_data\n",
      "The qdrant destination used /workspaces/llm-zoomcamp/dlt-Workshop/db.qdrant location to store data\n",
      "Load package 1751554479.5610447 is LOADED and contains no failed jobs\n",
      "\n",
      "Step run COMPLETED in 10.81 seconds.\n",
      "Pipeline zoomcamp_pipeline load step completed in 7.13 seconds\n",
      "1 load package(s) were loaded to destination qdrant and into dataset zoomcamp_tagged_data\n",
      "The qdrant destination used /workspaces/llm-zoomcamp/dlt-Workshop/db.qdrant location to store data\n",
      "Load package 1751554479.5610447 is LOADED and contains no failed jobs\n"
     ]
    }
   ],
   "source": [
    "# Step 5: Print trace info\n",
    "print(pipeline.last_trace)"
   ]
  },
  {
   "cell_type": "markdown",
   "id": "3d9cf4ce-879b-44fb-a1a4-c41d3deb994e",
   "metadata": {},
   "source": [
    "# Question 3. Embeddings"
   ]
  },
  {
   "cell_type": "code",
   "execution_count": 35,
   "id": "f3960888-fabe-4ea0-8131-9f13f8b3cbc4",
   "metadata": {},
   "outputs": [
    {
     "name": "stdout",
     "output_type": "stream",
     "text": [
      "{'collections': {'zoomcamp_tagged_data': {'vectors': {'fast-bge-small-en': {'size': 384, 'distance': 'Cosine', 'hnsw_config': None, 'quantization_config': None, 'on_disk': None, 'datatype': None, 'multivector_config': None}}, 'shard_number': None, 'sharding_method': None, 'replication_factor': None, 'write_consistency_factor': None, 'on_disk_payload': None, 'hnsw_config': None, 'wal_config': None, 'optimizers_config': None, 'init_from': None, 'quantization_config': None, 'sparse_vectors': None, 'strict_mode_config': None}, 'zoomcamp_tagged_data__dlt_loads': {'vectors': {'fast-bge-small-en': {'size': 384, 'distance': 'Cosine', 'hnsw_config': None, 'quantization_config': None, 'on_disk': None, 'datatype': None, 'multivector_config': None}}, 'shard_number': None, 'sharding_method': None, 'replication_factor': None, 'write_consistency_factor': None, 'on_disk_payload': None, 'hnsw_config': None, 'wal_config': None, 'optimizers_config': None, 'init_from': None, 'quantization_config': None, 'sparse_vectors': None, 'strict_mode_config': None}, 'zoomcamp_tagged_data_zoomcamp_data': {'vectors': {'fast-bge-small-en': {'size': 384, 'distance': 'Cosine', 'hnsw_config': None, 'quantization_config': None, 'on_disk': None, 'datatype': None, 'multivector_config': None}}, 'shard_number': None, 'sharding_method': None, 'replication_factor': None, 'write_consistency_factor': None, 'on_disk_payload': None, 'hnsw_config': None, 'wal_config': None, 'optimizers_config': None, 'init_from': None, 'quantization_config': None, 'sparse_vectors': None, 'strict_mode_config': None}, 'zoomcamp_tagged_data__dlt_pipeline_state': {'vectors': {'fast-bge-small-en': {'size': 384, 'distance': 'Cosine', 'hnsw_config': None, 'quantization_config': None, 'on_disk': None, 'datatype': None, 'multivector_config': None}}, 'shard_number': None, 'sharding_method': None, 'replication_factor': None, 'write_consistency_factor': None, 'on_disk_payload': None, 'hnsw_config': None, 'wal_config': None, 'optimizers_config': None, 'init_from': None, 'quantization_config': None, 'sparse_vectors': None, 'strict_mode_config': None}, 'zoomcamp_tagged_data__dlt_version': {'vectors': {'fast-bge-small-en': {'size': 384, 'distance': 'Cosine', 'hnsw_config': None, 'quantization_config': None, 'on_disk': None, 'datatype': None, 'multivector_config': None}}, 'shard_number': None, 'sharding_method': None, 'replication_factor': None, 'write_consistency_factor': None, 'on_disk_payload': None, 'hnsw_config': None, 'wal_config': None, 'optimizers_config': None, 'init_from': None, 'quantization_config': None, 'sparse_vectors': None, 'strict_mode_config': None}}, 'aliases': {}}\n"
     ]
    }
   ],
   "source": [
    "import json\n",
    "\n",
    "with open(\"db.qdrant/meta.json\") as f:\n",
    "    meta = json.load(f)\n",
    "\n",
    "print(meta)"
   ]
  }
 ],
 "metadata": {
  "kernelspec": {
   "display_name": "Python 3 (ipykernel)",
   "language": "python",
   "name": "python3"
  },
  "language_info": {
   "codemirror_mode": {
    "name": "ipython",
    "version": 3
   },
   "file_extension": ".py",
   "mimetype": "text/x-python",
   "name": "python",
   "nbconvert_exporter": "python",
   "pygments_lexer": "ipython3",
   "version": "3.12.1"
  }
 },
 "nbformat": 4,
 "nbformat_minor": 5
}
